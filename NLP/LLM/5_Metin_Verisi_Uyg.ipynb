{
 "cells": [
  {
   "cell_type": "markdown",
   "id": "95658eea",
   "metadata": {},
   "source": [
    "### 5. Metin Verisi Üzerinde Uygulama\n",
    "\n",
    "Bu bölümde, **gerçek bir Türkçe metin veri setiyle tam bir NLP uygulaması** adım adım gerçekleştirilecek. Amaç, yazılım geliştiricilerin teoriden uygulamaya geçiş yapmasını sağlamak ve veri ön işleme, model eğitimi, değerlendirme ve entegrasyon süreçlerini yaşamasını sağlamaktır."
   ]
  },
  {
   "cell_type": "markdown",
   "id": "67d1fe18",
   "metadata": {},
   "source": [
    "### 1. Veri Hazırlığı\n",
    "\n",
    "İlk adım, kaliteli bir veri seti oluşturmaktır. HuggingFace `datasets` kütüphanesi ile örnek bir veri seti yükleyebiliriz."
   ]
  },
  {
   "cell_type": "code",
   "execution_count": null,
   "id": "893d4a2e",
   "metadata": {},
   "outputs": [],
   "source": [
    "from datasets import load_dataset\n",
    "import torch\n",
    "dataset = load_dataset(\"winvoker/turkish-sentiment-analysis-dataset\")"
   ]
  },
  {
   "cell_type": "markdown",
   "id": "ad2ebbf1",
   "metadata": {},
   "source": [
    "### 2. Veri Ön İşleme\n",
    "\n",
    "Metinlerdeki gereksiz karakterler, emoji, URL'ler temizlenmeli. Ayrıca küçük harfe çevirmek ve özel karakterleri çıkarmak önemlidir."
   ]
  },
  {
   "cell_type": "code",
   "execution_count": null,
   "id": "3f1b2db7",
   "metadata": {},
   "outputs": [],
   "source": [
    "def filter_neutral(examples):\n",
    "    return examples[\"label\"] != \"Notr\"\n",
    "dataset = dataset.filter(filter_neutral)\n",
    "def reformat_labels(examples):\n",
    "    examples[\"label\"] = 1 if examples[\"label\"] == \"Positive\" else 0\n",
    "    return examples\n",
    "\n",
    "dataset = dataset.map(reformat_labels)"
   ]
  },
  {
   "cell_type": "code",
   "execution_count": null,
   "id": "8b638689",
   "metadata": {},
   "outputs": [],
   "source": [
    "print(dataset[\"train\"][0])"
   ]
  },
  {
   "cell_type": "code",
   "execution_count": null,
   "id": "dd3a523d",
   "metadata": {},
   "outputs": [],
   "source": [
    "from transformers import AutoModelForSequenceClassification,AutoTokenizer"
   ]
  },
  {
   "cell_type": "markdown",
   "id": "2e6e0132",
   "metadata": {},
   "source": [
    "### 3. Tokenization\n",
    "\n",
    "Yine HuggingFace tokenizer’ı kullanıyoruz."
   ]
  },
  {
   "cell_type": "code",
   "execution_count": null,
   "id": "ccc047f4",
   "metadata": {},
   "outputs": [],
   "source": [
    "model_name = \"dbmdz/bert-base-turkish-cased\"\n",
    "tokenizer = AutoTokenizer.from_pretrained(model_name)\n",
    "model = AutoModelForSequenceClassification.from_pretrained(model_name)\n",
    "\n",
    "def tokenize_function(examples):\n",
    "    return tokenizer(examples[\"text\"], padding=\"max_length\", truncation=True,max_length=128)\n",
    "tokenized_datasets = dataset.map(tokenize_function, batched=True)"
   ]
  },
  {
   "cell_type": "markdown",
   "id": "8d2fee61",
   "metadata": {},
   "source": [
    "### 4. Model Eğitimi (Fine-Tuning)\n",
    "\n",
    "Daha önce anlatılan `Trainer` yapısını kullanıyoruz."
   ]
  },
  {
   "cell_type": "code",
   "execution_count": null,
   "id": "67093873",
   "metadata": {},
   "outputs": [],
   "source": [
    "from transformers import TrainingArguments, Trainer\n",
    "tranging_args = TrainingArguments(\n",
    "    output_dir=\"./bertfinetuningornek\",\n",
    "    per_device_train_batch_size=16,\n",
    "    per_device_eval_batch_size=16,\n",
    "    num_train_epochs=3,\n",
    "    logging_dir=\"./logs\",\n",
    "    save_strategy=\"epoch\",\n",
    ")\n",
    "\n",
    "trainer = Trainer(\n",
    "    model=model,\n",
    "    args=tranging_args,\n",
    "    train_dataset=tokenized_datasets[\"train\"]\n",
    ")"
   ]
  },
  {
   "cell_type": "code",
   "execution_count": null,
   "id": "08ac0a11",
   "metadata": {},
   "outputs": [],
   "source": [
    "trainer.train()"
   ]
  },
  {
   "cell_type": "markdown",
   "id": "65ab141a",
   "metadata": {},
   "source": [
    "5. Modeli Kaydet ve Yükle"
   ]
  },
  {
   "cell_type": "code",
   "execution_count": null,
   "id": "e7390d05",
   "metadata": {},
   "outputs": [],
   "source": [
    "import numpy as np\n",
    "text = \"Bu restoran çok kötü idi\"\n",
    "inputs = tokenizer(text,return_tensors=\"pt\",truncation=True,padding=True,max_length=128)\n",
    "outputs = model(**inputs)\n",
    "prediction = torch.nn.functional.softmax(outputs.logits,dim=-1)\n",
    "predicted_class = np.argmax(prediction.detach().numpy())\n",
    "predicted_class"
   ]
  },
  {
   "cell_type": "markdown",
   "id": "9101f5ef",
   "metadata": {},
   "source": [
    "6. Gerçek Zamanlı Tahmin"
   ]
  },
  {
   "cell_type": "code",
   "execution_count": null,
   "id": "d592a7d3",
   "metadata": {},
   "outputs": [],
   "source": []
  },
  {
   "cell_type": "markdown",
   "id": "5f075b1b",
   "metadata": {},
   "source": []
  },
  {
   "cell_type": "markdown",
   "id": "b6131442",
   "metadata": {},
   "source": []
  }
 ],
 "metadata": {
  "kernelspec": {
   "display_name": "nlp2",
   "language": "python",
   "name": "python3"
  },
  "language_info": {
   "codemirror_mode": {
    "name": "ipython",
    "version": 3
   },
   "file_extension": ".py",
   "mimetype": "text/x-python",
   "name": "python",
   "nbconvert_exporter": "python",
   "pygments_lexer": "ipython3",
   "version": "3.11.13"
  }
 },
 "nbformat": 4,
 "nbformat_minor": 5
}
