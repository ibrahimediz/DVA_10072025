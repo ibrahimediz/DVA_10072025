{
 "cells": [
  {
   "cell_type": "markdown",
   "id": "358ceace",
   "metadata": {},
   "source": [
    "### Fine-Tuning Nedir?\n",
    "\n",
    "**Fine-tuning**, önceden eğitilmiş bir modeli (örneğin BERT), belirli bir görev (örneğin “ürün incelemesi sınıflandırma”) için küçük bir veri setiyle yeniden eğitmektir.\n",
    "\n",
    "- **Neden gerekli?** Genel BERT modeli tüm dile dair bilgiyi içerir ama “telefon yorumları” gibi özel bir alanda yeterli doğruluk vermeyebilir.\n",
    "- **Avantaj**: Sadece birkaç bin örnek ile yüksek performans elde edilebilir. Tam sıfırdan eğitmek yerine, mevcut bilgi üzerine inşa edilir.\n",
    "\n",
    "---\n",
    "\n",
    "### Fine-Tuning Süreci\n",
    "\n",
    "1. **Veri Hazırlığı**: Etiketli veri (metin + sınıf) hazırlanır.\n",
    "2. **Model Yükleme**: Önceden eğitilmiş BERT yüklenir.\n",
    "3. **Sınıflandırıcı Katmanı Eklenir**: `[CLS]` çıktısına bağlı yeni bir katman.\n",
    "4. **Eğitim**: Yeni katman ve BERT’in bazı katmanları küçük öğrenme oranı ile güncellenir.\n",
    "5. **Değerlendirme**: Test verisi üzerinde doğruluk ölçülür."
   ]
  },
  {
   "cell_type": "markdown",
   "id": "5674c69f",
   "metadata": {},
   "source": [
    "Adım 1: Gerekli Kütüphaneleri Yükle"
   ]
  },
  {
   "cell_type": "code",
   "execution_count": 2,
   "id": "44812700",
   "metadata": {},
   "outputs": [],
   "source": [
    "from transformers import (\n",
    "    AutoTokenizer,\n",
    "    AutoModelForSequenceClassification,\n",
    "    Trainer,\n",
    "    TrainingArguments\n",
    ")\n",
    "from datasets import Dataset\n",
    "import torch"
   ]
  },
  {
   "cell_type": "markdown",
   "id": "df5462f4",
   "metadata": {},
   "source": [
    "Adım 2: Örnek Veri Seti Oluştur"
   ]
  },
  {
   "cell_type": "code",
   "execution_count": 4,
   "id": "1dacb992",
   "metadata": {},
   "outputs": [],
   "source": [
    "data = {\n",
    "    \"text\": [\"Harika bir ürün\",\n",
    "             \"Kargo çok geç geldi\",\n",
    "             \"İyi bir fiyat performans ürünü\",\n",
    "             \"Kalitesiz malzeme kullanılmış\",\n",
    "             \"Hızlı Teslimat,memnun kaldım\",\n",
    "             \"Beklediğim gibi değil,çok pahalı\"],\n",
    "    \"label\": [1,0,1,0,1,0]\n",
    "    \n",
    "}\n",
    "dataset = Dataset.from_dict(data)"
   ]
  },
  {
   "cell_type": "markdown",
   "id": "10cffcca",
   "metadata": {},
   "source": [
    "Adım 3: Tokenizer ve Modeli Yükle"
   ]
  },
  {
   "cell_type": "code",
   "execution_count": 5,
   "id": "3dc657e3",
   "metadata": {},
   "outputs": [
    {
     "name": "stderr",
     "output_type": "stream",
     "text": [
      "Some weights of BertForSequenceClassification were not initialized from the model checkpoint at dbmdz/bert-base-turkish-cased and are newly initialized: ['classifier.bias', 'classifier.weight']\n",
      "You should probably TRAIN this model on a down-stream task to be able to use it for predictions and inference.\n"
     ]
    }
   ],
   "source": [
    "model = \"dbmdz/bert-base-turkish-cased\"\n",
    "tokenizer = AutoTokenizer.from_pretrained(model)\n",
    "model = AutoModelForSequenceClassification.from_pretrained(model,num_labels=2)\n"
   ]
  },
  {
   "cell_type": "markdown",
   "id": "ca792c3b",
   "metadata": {},
   "source": [
    "Adım 4: Metinleri Tokenize Et"
   ]
  },
  {
   "cell_type": "code",
   "execution_count": 6,
   "id": "ee605479",
   "metadata": {},
   "outputs": [
    {
     "data": {
      "application/vnd.jupyter.widget-view+json": {
       "model_id": "cb5c29d27cad40749a33c19c406e1b77",
       "version_major": 2,
       "version_minor": 0
      },
      "text/plain": [
       "Map:   0%|          | 0/6 [00:00<?, ? examples/s]"
      ]
     },
     "metadata": {},
     "output_type": "display_data"
    }
   ],
   "source": [
    "def tokenize_function(examples):\n",
    "    return tokenizer(examples[\"text\"], padding=\"max_length\", truncation=True,return_tensors=None)\n",
    "tokenized_datasets = dataset.map(tokenize_function, batched=True)"
   ]
  },
  {
   "cell_type": "markdown",
   "id": "17f2962b",
   "metadata": {},
   "source": [
    "Adım 5: Eğitim Ayarları ve Trainer"
   ]
  },
  {
   "cell_type": "code",
   "execution_count": 8,
   "id": "712123cc",
   "metadata": {},
   "outputs": [],
   "source": [
    "tranging_args = TrainingArguments(\n",
    "    output_dir=\"./bertfinetuningornek\",\n",
    "    num_train_epochs=3,\n",
    "    per_device_train_batch_size=8,\n",
    "    per_device_eval_batch_size=8,\n",
    "    warmup_steps=100,\n",
    "    weight_decay=0.01,\n",
    "    logging_dir=\"./logs\",\n",
    "    eval_strategy=\"no\",\n",
    "    save_strategy=\"epoch\",\n",
    "    learning_rate=2e-5,\n",
    "    load_best_model_at_end=False,\n",
    ")\n",
    "\n",
    "trainer = Trainer(\n",
    "    model=model,\n",
    "    args=tranging_args,\n",
    "    train_dataset=tokenized_datasets\n",
    ")"
   ]
  },
  {
   "cell_type": "markdown",
   "id": "e80407e8",
   "metadata": {},
   "source": [
    "Adım 6: Fine-Tuning’i Başlat"
   ]
  },
  {
   "cell_type": "code",
   "execution_count": 9,
   "id": "2b3d805d",
   "metadata": {},
   "outputs": [
    {
     "name": "stderr",
     "output_type": "stream",
     "text": [
      "/Users/ibrahimediz/anaconda3/envs/nlp2/lib/python3.11/site-packages/torch/utils/data/dataloader.py:683: UserWarning: 'pin_memory' argument is set as true but not supported on MPS now, then device pinned memory won't be used.\n",
      "  warnings.warn(warn_msg)\n",
      "/Users/ibrahimediz/anaconda3/envs/nlp2/lib/python3.11/site-packages/torch/nn/modules/module.py:1762: FutureWarning: `encoder_attention_mask` is deprecated and will be removed in version 4.55.0 for `BertSdpaSelfAttention.forward`.\n",
      "  return forward_call(*args, **kwargs)\n"
     ]
    },
    {
     "data": {
      "text/html": [
       "\n",
       "    <div>\n",
       "      \n",
       "      <progress value='3' max='3' style='width:300px; height:20px; vertical-align: middle;'></progress>\n",
       "      [3/3 00:36, Epoch 3/3]\n",
       "    </div>\n",
       "    <table border=\"1\" class=\"dataframe\">\n",
       "  <thead>\n",
       " <tr style=\"text-align: left;\">\n",
       "      <th>Step</th>\n",
       "      <th>Training Loss</th>\n",
       "    </tr>\n",
       "  </thead>\n",
       "  <tbody>\n",
       "  </tbody>\n",
       "</table><p>"
      ],
      "text/plain": [
       "<IPython.core.display.HTML object>"
      ]
     },
     "metadata": {},
     "output_type": "display_data"
    },
    {
     "name": "stderr",
     "output_type": "stream",
     "text": [
      "/Users/ibrahimediz/anaconda3/envs/nlp2/lib/python3.11/site-packages/torch/utils/data/dataloader.py:683: UserWarning: 'pin_memory' argument is set as true but not supported on MPS now, then device pinned memory won't be used.\n",
      "  warnings.warn(warn_msg)\n",
      "/Users/ibrahimediz/anaconda3/envs/nlp2/lib/python3.11/site-packages/torch/nn/modules/module.py:1762: FutureWarning: `encoder_attention_mask` is deprecated and will be removed in version 4.55.0 for `BertSdpaSelfAttention.forward`.\n",
      "  return forward_call(*args, **kwargs)\n",
      "/Users/ibrahimediz/anaconda3/envs/nlp2/lib/python3.11/site-packages/torch/utils/data/dataloader.py:683: UserWarning: 'pin_memory' argument is set as true but not supported on MPS now, then device pinned memory won't be used.\n",
      "  warnings.warn(warn_msg)\n",
      "/Users/ibrahimediz/anaconda3/envs/nlp2/lib/python3.11/site-packages/torch/nn/modules/module.py:1762: FutureWarning: `encoder_attention_mask` is deprecated and will be removed in version 4.55.0 for `BertSdpaSelfAttention.forward`.\n",
      "  return forward_call(*args, **kwargs)\n"
     ]
    },
    {
     "data": {
      "text/plain": [
       "TrainOutput(global_step=3, training_loss=0.706830104192098, metrics={'train_runtime': 57.0869, 'train_samples_per_second': 0.315, 'train_steps_per_second': 0.053, 'total_flos': 4735998996480.0, 'train_loss': 0.706830104192098, 'epoch': 3.0})"
      ]
     },
     "execution_count": 9,
     "metadata": {},
     "output_type": "execute_result"
    }
   ],
   "source": [
    "trainer.train()"
   ]
  },
  {
   "cell_type": "markdown",
   "id": "1ed5e934",
   "metadata": {},
   "source": [
    "Fine-Tuning Sonrası Kullanım"
   ]
  },
  {
   "cell_type": "code",
   "execution_count": 10,
   "id": "78cfa14e",
   "metadata": {},
   "outputs": [
    {
     "data": {
      "text/plain": [
       "('./finetuned_bertfinetuningornek/tokenizer_config.json',\n",
       " './finetuned_bertfinetuningornek/special_tokens_map.json',\n",
       " './finetuned_bertfinetuningornek/vocab.txt',\n",
       " './finetuned_bertfinetuningornek/added_tokens.json',\n",
       " './finetuned_bertfinetuningornek/tokenizer.json')"
      ]
     },
     "execution_count": 10,
     "metadata": {},
     "output_type": "execute_result"
    }
   ],
   "source": [
    "model.save_pretrained(\"./finetuned_bertfinetuningornek\")\n",
    "tokenizer.save_pretrained(\"./finetuned_bertfinetuningornek\")\n"
   ]
  },
  {
   "cell_type": "code",
   "execution_count": null,
   "id": "f9016fbe",
   "metadata": {},
   "outputs": [],
   "source": [
    "fine_tune_model = AutoModelForSequenceClassification.from_pretrained(\"./finetuned_bertfinetuningornek\")\n",
    "fine_tune_tokenizer = AutoTokenizer.from_pretrained(\"./finetuned_bertfinetuningornek\")\n",
    "\n",
    "yeni_yorum = \"İyiymiş ürün\"\n",
    "\n",
    "inputs = tokenizer(yeni_yorum, return_tensors=\"pt\",padding=True)\n",
    "\n",
    "with torch.no_grad():\n",
    "    output = fine_tune_model(**input)\n",
    "    prediction = torch.softmax(output.logits,dim=-1)\n",
    "    label = \"Olumlu\" if prediction[0][1] > 0.5 else \"Olumsuz\""
   ]
  },
  {
   "cell_type": "markdown",
   "id": "be328dde",
   "metadata": {},
   "source": [
    "https://huggingface.co/docs/transformers/main_classes/trainer"
   ]
  },
  {
   "cell_type": "markdown",
   "id": "9e89c66b",
   "metadata": {},
   "source": []
  }
 ],
 "metadata": {
  "kernelspec": {
   "display_name": "nlp2",
   "language": "python",
   "name": "python3"
  },
  "language_info": {
   "codemirror_mode": {
    "name": "ipython",
    "version": 3
   },
   "file_extension": ".py",
   "mimetype": "text/x-python",
   "name": "python",
   "nbconvert_exporter": "python",
   "pygments_lexer": "ipython3",
   "version": "3.11.13"
  }
 },
 "nbformat": 4,
 "nbformat_minor": 5
}
