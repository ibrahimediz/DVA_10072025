{
 "cells": [
  {
   "cell_type": "markdown",
   "id": "6db2cd7a",
   "metadata": {},
   "source": [
    "### Question Answering (Soru-Cevap)\n",
    "\n",
    "### Nedir Bu Question Answering (QA)?\n",
    "\n",
    "**Soru-Cevap (QA)**, doğal dilde bir soruya, verilen bir metin (bağlam) içinden doğrudan cevap verme görevidir. Model, soruyu anlar ve bağlamlı bilgiyi kullanarak en uygun cevabı çıkarır.\n",
    "\n",
    "Örneğin:\n",
    "\n",
    "- **Bağlam**: \"Türkiye'nin başkenti Ankara'dır. En kalabalık şehri ise İstanbul'dur.\"\n",
    "- **Soru**: \"Türkiye'nin başkenti neresidir?\"\n",
    "- **Cevap**: \"Ankara\"\n",
    "\n",
    "Bu tür sistemler, **akıllı asistanlar**, **müşteri destek botları**, **belge analiz sistemleri** gibi uygulamalarda kullanılır.\n",
    "\n",
    "---\n",
    "\n",
    "### BERT ve QA\n",
    "\n",
    "BERT, orijinal makalesinde **SQuAD (Stanford Question Answering Dataset)** üzerinde çok yüksek başarı göstermiştir. BERT, her token için:\n",
    "\n",
    "- Cevabın başlangıcında mı?\n",
    "- Cevabın bitişinde mi?\n",
    "\n",
    "olma olasılığını öğrenir."
   ]
  },
  {
   "cell_type": "markdown",
   "id": "c7d3cf93",
   "metadata": {},
   "source": [
    "### Ornek Uygulama"
   ]
  },
  {
   "cell_type": "code",
   "execution_count": 3,
   "id": "7c559257",
   "metadata": {},
   "outputs": [
    {
     "name": "stderr",
     "output_type": "stream",
     "text": [
      "Some weights of the model checkpoint at savasy/bert-base-turkish-squad were not used when initializing BertForQuestionAnswering: ['bert.pooler.dense.bias', 'bert.pooler.dense.weight']\n",
      "- This IS expected if you are initializing BertForQuestionAnswering from the checkpoint of a model trained on another task or with another architecture (e.g. initializing a BertForSequenceClassification model from a BertForPreTraining model).\n",
      "- This IS NOT expected if you are initializing BertForQuestionAnswering from the checkpoint of a model that you expect to be exactly identical (initializing a BertForSequenceClassification model from a BertForSequenceClassification model).\n",
      "Device set to use mps:0\n"
     ]
    },
    {
     "name": "stdout",
     "output_type": "stream",
     "text": [
      "Question: Hastalık durumunda izin süresi kaç gündür?\n",
      "Answer: 3 gün\n",
      "Score: 0.9999\n",
      "Start: 202\n",
      "End: 207\n"
     ]
    }
   ],
   "source": [
    "from transformers import pipeline\n",
    "qa_pipeline = pipeline(\n",
    "    \"question-answering\",\n",
    "    model=\"savasy/bert-base-turkish-squad\",\n",
    "    tokenizer=\"savasy/bert-base-turkish-squad\")\n",
    "context = \"\"\"\n",
    "Dijital Vizyon Akademi firmasında çalışanlar yılda 20 gün ücretli izin kullanabilir. \n",
    "Ücretli izin, en az 15 gün önce izin formu doldurularak insan kaynaklarına başvurularak alınır.\n",
    "Hastalık durumunda 3 gün mazeret izni verilir. Bu süre uzatılabilir. \n",
    "\"\"\"\n",
    "\n",
    "question = \"Hastalık durumunda izin süresi kaç gündür?\"\n",
    "\n",
    "result = qa_pipeline(question=question, context=context)\n",
    "\n",
    "print(f\"Question: {question}\")\n",
    "print(f\"Answer: {result['answer']}\")\n",
    "print(f\"Score: {result['score']:.4f}\")\n",
    "print(f\"Start: {result['start']}\")\n",
    "print(f\"End: {result['end']}\")\n"
   ]
  },
  {
   "cell_type": "code",
   "execution_count": null,
   "id": "c02b6d1e",
   "metadata": {},
   "outputs": [],
   "source": []
  }
 ],
 "metadata": {
  "kernelspec": {
   "display_name": "nlp2",
   "language": "python",
   "name": "python3"
  },
  "language_info": {
   "codemirror_mode": {
    "name": "ipython",
    "version": 3
   },
   "file_extension": ".py",
   "mimetype": "text/x-python",
   "name": "python",
   "nbconvert_exporter": "python",
   "pygments_lexer": "ipython3",
   "version": "3.11.13"
  }
 },
 "nbformat": 4,
 "nbformat_minor": 5
}
