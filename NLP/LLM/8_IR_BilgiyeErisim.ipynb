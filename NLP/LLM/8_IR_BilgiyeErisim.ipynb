{
 "cells": [
  {
   "cell_type": "markdown",
   "id": "aeec0d09",
   "metadata": {},
   "source": [
    "### Information Retrieval (IR) – Bilgiye Erişim\n",
    "\n",
    "### IR Nedir?\n",
    "\n",
    "**Bilgiye Erişim (Information Retrieval - IR)**, büyük bir metin koleksiyonu (örneğin belgeler, haberler, PDF'ler) içinde, bir kullanıcının sorgusuna en alakalı belgeleri bulma sürecidir.\n",
    "\n",
    "- **Arama motorları** (Google), en temel IR uygulamasıdır.\n",
    "- **Kütüphane sistemleri**\n",
    "- **İçerik öneri sistemleri**\n",
    "\n",
    "---\n",
    "\n",
    "### Geleneksel IR vs NLP Tabanlı IR\n",
    "\n",
    "| Yöntem | Nasıl Çalışır | Örnek |\n",
    "| --- | --- | --- |\n",
    "| **Boolean IR** | \"anahtar kelime\" eşleşmesi | \"Türkiye AND başkent\" |\n",
    "| **TF-IDF + Cosine Similarity** | Terim sıklığı ve önemine göre skor | scikit-learn |\n",
    "| **Dense Retrieval (DPR, SBERT)** | Embedding’ler arası benzerlik | BERT ile cümle embedding’i |\n",
    "\n",
    "Bugün, **semantic search** (anlamsal arama) için embedding tabanlı yöntemler tercih edilir."
   ]
  },
  {
   "cell_type": "code",
   "execution_count": 3,
   "id": "42be170a",
   "metadata": {},
   "outputs": [
    {
     "name": "stderr",
     "output_type": "stream",
     "text": [
      "/Users/ibrahimediz/anaconda3/envs/nlp2/lib/python3.11/site-packages/torch/nn/modules/module.py:1762: FutureWarning: `encoder_attention_mask` is deprecated and will be removed in version 4.55.0 for `XLMRobertaSdpaSelfAttention.forward`.\n",
      "  return forward_call(*args, **kwargs)\n"
     ]
    },
    {
     "name": "stdout",
     "output_type": "stream",
     "text": [
      "Sorgu: Şifremi nasıl sıfırlarım?\n",
      "En uygun belge: Şifre sıfırlama isteği için /api/forgot-password adresine POST isteği gönderin.\n",
      "Uygunluk derecesi: 0.6513\n"
     ]
    }
   ],
   "source": [
    "from sentence_transformers import SentenceTransformer\n",
    "import numpy as np\n",
    "from sklearn.metrics.pairwise import cosine_similarity\n",
    "\n",
    "model = SentenceTransformer('eneSadi/turkuaz-embeddings')\n",
    "\n",
    "documents = [\"Kullanıcı oturumunu kapatmak için /api/logout endpoint'ine POST isteği gönderin.\",\n",
    "             \"Yeni kullanıcı kaydı için /api/register adresine JSON verisiyle istek yapın.\",\n",
    "             \"Şifre sıfırlama isteği için /api/forgot-password adresine POST isteği gönderin.\",\n",
    "             \"API anahatlarını almak için profil ayarlarından istekte bulunun.\",]\n",
    "\n",
    "\n",
    "query = \"Şifremi nasıl sıfırlarım?\"\n",
    "\n",
    "doc_embeddings = model.encode(documents)\n",
    "query_embedding = model.encode(query)\n",
    "\n",
    "cosine_similarities = cosine_similarity([query_embedding], doc_embeddings)[0]\n",
    "\n",
    "most_relevant_idx = np.argmax(cosine_similarities)\n",
    "\n",
    "print(f\"Sorgu: {query}\")\n",
    "print(f\"En uygun belge: {documents[most_relevant_idx]}\")\n",
    "print(f\"Uygunluk derecesi: {cosine_similarities[most_relevant_idx]:.4f}\")"
   ]
  },
  {
   "cell_type": "markdown",
   "id": "a079aef0",
   "metadata": {},
   "source": [
    "# Türkçe Bilgi Çekimi (Information Retrieval) için Güncel Modeller\n",
    "\n",
    "Arama sonuçlarına göre, \"dbmdz/bert-base-turkish-cased-mean-tokens\" modelinin yerine kullanılabilecek birkaç güncel Türkçe bilgi çekimi (IR) modeli bulunmakta:\n",
    "\n",
    "## Öne Çıkan Modeller\n",
    "\n",
    "### 1. Turkuaz-Embeddings\n",
    "- **Model Adı**: `eneSadi/turkuaz-embeddings` \n",
    "- **Özellikler**: Türkçe bilgi çekim görevleri için özel olarak optimize edilmiş yeni bir embedding modelidir. \n",
    "- **Avantaj**: Türkçe metinler üzerinde özellikle bilgi çekim performansını artırmak için tasarlanmıştır.\n",
    "- **Kullanım Alanı**: Genel amaçlı Türkçe doküman arama ve benzerlik ölçümü\n",
    "\n",
    "### 2. Turkish-Colpali\n",
    "- **Model Adı**: `selimc/turkish-colpali` \n",
    "- **Özellikler**: Türkçe dokümanların etkili indekslenmesi ve geri alınması için tasarlanmış, hem metinsel hem de görsel özelliklerden yararlanan bir model. \n",
    "- **Avantaj**: Çok modlu (multimodal) bilgi çekim ihtiyacınız varsa idealdir\n",
    "- **Kullanım Alanı**: Metin ve görsel içeren doküman koleksiyonlarında arama\n",
    "\n",
    "### 3. Nomic-MoE-Turkish-v1\n",
    "- **Model Adı**: `teoyidu/nomic-moe-turkish-v1` \n",
    "- **Özellikler**: Türkçe'deki anlamsal ilişkileri yakalama konusunda güçlü performans gösterir. \n",
    "- **Avantaj**: Dilin nüanslarını daha iyi anlama yeteneği\n",
    "- **Kullanım Alanı**: Anlamsal arama (semantic search) uygulamaları\n",
    "\n",
    "### 4. BERTurk-Legal\n",
    "- **Model Adı**: `KocLab-Bilkent/BERTurk-Legal` \n",
    "- **Özellikler**: Türk hukuk alanı verileri üzerinde ön eğitilmiş, önceki hukuki davaları geri almak için tasarlanmış bir dil modeli. \n",
    "- **Avantaj**: Hukuk metinleri için özel olarak optimize edilmiş\n",
    "- **Kullanım Alanı**: Hukuki doküman arama ve analiz sistemleri\n",
    "\n",
    "## Ek Kaynaklar\n",
    "\n",
    "- **Awesome Turkish Language Models**: Türkçe NLP/LLM modelleri ve veri kümelerinin seçilmiş bir listesini içeren kaynak. \n",
    "- **TR-MMLU**: Türkçe büyük dil modellerinin değerlendirilmesi için yeni bir standart oluşturan değerlendirme kiti. \n",
    "\n",
    "## Öneri\n",
    "\n",
    "Genel amaçlı Türkçe bilgi çekim için **Turkuaz-Embeddings** (`eneSadi/turkuaz-embeddings`) en uygun seçenek gibi görünüyor, çünkü özellikle bilgi çekim görevleri için optimize edilmiş ve yeni geliştirilmiş bir model. \n",
    "\n",
    "Hukuk alanı ile ilgileniyorsanız, **BERTurk-Legal** modeli daha spesifik ve etkili sonuçlar verecektir. \n",
    "\n",
    "Bu modellerin her biri, Türkçe metinler üzerinde bilgi çekim performansını artırmak için özel olarak tasarlanmış olup, \"dbmdz/bert-base-turkish-cased-mean-tokens\" modeline kıyasla daha güncel ve IR odaklı yaklaşımlar sunmaktadır."
   ]
  },
  {
   "cell_type": "markdown",
   "id": "44701258",
   "metadata": {},
   "source": []
  }
 ],
 "metadata": {
  "kernelspec": {
   "display_name": "nlp2",
   "language": "python",
   "name": "python3"
  },
  "language_info": {
   "codemirror_mode": {
    "name": "ipython",
    "version": 3
   },
   "file_extension": ".py",
   "mimetype": "text/x-python",
   "name": "python",
   "nbconvert_exporter": "python",
   "pygments_lexer": "ipython3",
   "version": "3.11.13"
  }
 },
 "nbformat": 4,
 "nbformat_minor": 5
}
