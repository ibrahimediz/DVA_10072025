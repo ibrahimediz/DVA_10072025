{
 "cells": [
  {
   "cell_type": "markdown",
   "id": "aeec0d09",
   "metadata": {},
   "source": [
    "### 8. Information Retrieval (IR) – Bilgiye Erişim\n",
    "\n",
    "### IR Nedir?\n",
    "\n",
    "**Bilgiye Erişim (Information Retrieval - IR)**, büyük bir metin koleksiyonu (örneğin belgeler, haberler, PDF'ler) içinde, bir kullanıcının sorgusuna en alakalı belgeleri bulma sürecidir.\n",
    "\n",
    "- **Arama motorları** (Google), en temel IR uygulamasıdır.\n",
    "- **Kütüphane sistemleri**\n",
    "- **İçerik öneri sistemleri**\n",
    "\n",
    "---\n",
    "\n",
    "### Geleneksel IR vs NLP Tabanlı IR\n",
    "\n",
    "| Yöntem | Nasıl Çalışır | Örnek |\n",
    "| --- | --- | --- |\n",
    "| **Boolean IR** | \"anahtar kelime\" eşleşmesi | \"Türkiye AND başkent\" |\n",
    "| **TF-IDF + Cosine Similarity** | Terim sıklığı ve önemine göre skor | scikit-learn |\n",
    "| **Dense Retrieval (DPR, SBERT)** | Embedding’ler arası benzerlik | BERT ile cümle embedding’i |\n",
    "\n",
    "Bugün, **semantic search** (anlamsal arama) için embedding tabanlı yöntemler tercih edilir."
   ]
  },
  {
   "cell_type": "markdown",
   "id": "42be170a",
   "metadata": {},
   "source": []
  },
  {
   "cell_type": "markdown",
   "id": "a079aef0",
   "metadata": {},
   "source": [
    "# Türkçe Bilgi Çekimi (Information Retrieval) için Güncel Modeller\n",
    "\n",
    "Arama sonuçlarına göre, \"dbmdz/bert-base-turkish-cased-mean-tokens\" modelinin yerine kullanılabilecek birkaç güncel Türkçe bilgi çekimi (IR) modeli bulunmakta:\n",
    "\n",
    "## Öne Çıkan Modeller\n",
    "\n",
    "### 1. Turkuaz-Embeddings\n",
    "- **Model Adı**: `eneSadi/turkuaz-embeddings` \n",
    "- **Özellikler**: Türkçe bilgi çekim görevleri için özel olarak optimize edilmiş yeni bir embedding modelidir. \n",
    "- **Avantaj**: Türkçe metinler üzerinde özellikle bilgi çekim performansını artırmak için tasarlanmıştır.\n",
    "- **Kullanım Alanı**: Genel amaçlı Türkçe doküman arama ve benzerlik ölçümü\n",
    "\n",
    "### 2. Turkish-Colpali\n",
    "- **Model Adı**: `selimc/turkish-colpali` \n",
    "- **Özellikler**: Türkçe dokümanların etkili indekslenmesi ve geri alınması için tasarlanmış, hem metinsel hem de görsel özelliklerden yararlanan bir model. \n",
    "- **Avantaj**: Çok modlu (multimodal) bilgi çekim ihtiyacınız varsa idealdir\n",
    "- **Kullanım Alanı**: Metin ve görsel içeren doküman koleksiyonlarında arama\n",
    "\n",
    "### 3. Nomic-MoE-Turkish-v1\n",
    "- **Model Adı**: `teoyidu/nomic-moe-turkish-v1` \n",
    "- **Özellikler**: Türkçe'deki anlamsal ilişkileri yakalama konusunda güçlü performans gösterir. \n",
    "- **Avantaj**: Dilin nüanslarını daha iyi anlama yeteneği\n",
    "- **Kullanım Alanı**: Anlamsal arama (semantic search) uygulamaları\n",
    "\n",
    "### 4. BERTurk-Legal\n",
    "- **Model Adı**: `KocLab-Bilkent/BERTurk-Legal` \n",
    "- **Özellikler**: Türk hukuk alanı verileri üzerinde ön eğitilmiş, önceki hukuki davaları geri almak için tasarlanmış bir dil modeli. \n",
    "- **Avantaj**: Hukuk metinleri için özel olarak optimize edilmiş\n",
    "- **Kullanım Alanı**: Hukuki doküman arama ve analiz sistemleri\n",
    "\n",
    "## Ek Kaynaklar\n",
    "\n",
    "- **Awesome Turkish Language Models**: Türkçe NLP/LLM modelleri ve veri kümelerinin seçilmiş bir listesini içeren kaynak. \n",
    "- **TR-MMLU**: Türkçe büyük dil modellerinin değerlendirilmesi için yeni bir standart oluşturan değerlendirme kiti. \n",
    "\n",
    "## Öneri\n",
    "\n",
    "Genel amaçlı Türkçe bilgi çekim için **Turkuaz-Embeddings** (`eneSadi/turkuaz-embeddings`) en uygun seçenek gibi görünüyor, çünkü özellikle bilgi çekim görevleri için optimize edilmiş ve yeni geliştirilmiş bir model. \n",
    "\n",
    "Hukuk alanı ile ilgileniyorsanız, **BERTurk-Legal** modeli daha spesifik ve etkili sonuçlar verecektir. \n",
    "\n",
    "Bu modellerin her biri, Türkçe metinler üzerinde bilgi çekim performansını artırmak için özel olarak tasarlanmış olup, \"dbmdz/bert-base-turkish-cased-mean-tokens\" modeline kıyasla daha güncel ve IR odaklı yaklaşımlar sunmaktadır."
   ]
  },
  {
   "cell_type": "markdown",
   "id": "44701258",
   "metadata": {},
   "source": []
  }
 ],
 "metadata": {
  "language_info": {
   "name": "python"
  }
 },
 "nbformat": 4,
 "nbformat_minor": 5
}
