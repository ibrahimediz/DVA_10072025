{
 "cells": [
  {
   "cell_type": "markdown",
   "id": "60bf140b",
   "metadata": {},
   "source": [
    "# tokenizasyon\n",
    "* bir metni küçük parçalara ayırma yöntemi\n",
    "* küçük parçalara token\n",
    "* tokenler kelimeler,cümleler ya da karakterler olabilir."
   ]
  },
  {
   "cell_type": "code",
   "execution_count": 2,
   "id": "964f0e93",
   "metadata": {},
   "outputs": [],
   "source": [
    "sample_text = \"Merhaba! Bugün hava çok güzel. Python ile NLP çalışıyoruz, değil mi?\""
   ]
  },
  {
   "cell_type": "markdown",
   "id": "3bdb8223",
   "metadata": {},
   "source": [
    "## Python"
   ]
  },
  {
   "cell_type": "code",
   "execution_count": 3,
   "id": "b86f81a4",
   "metadata": {},
   "outputs": [
    {
     "name": "stdout",
     "output_type": "stream",
     "text": [
      "Kelime tokenleri: ['Merhaba', 'Bugün', 'hava', 'çok', 'güzel', 'Python', 'ile', 'NLP', 'çalışıyoruz', 'değil', 'mi']\n",
      "Cümle tokenleri: ['Merhaba', 'Bugün hava çok güzel', 'Python ile NLP çalışıyoruz, değil mi']\n",
      "Karakter tokenleri: ['M', 'e', 'r', 'h', 'a', 'b', 'a', '!', ' ', 'B', 'u', 'g', 'ü', 'n', ' ', 'h', 'a', 'v', 'a', ' ', 'ç', 'o', 'k', ' ', 'g', 'ü', 'z', 'e', 'l', '.', ' ', 'P', 'y', 't', 'h', 'o', 'n', ' ', 'i', 'l', 'e', ' ', 'N', 'L', 'P', ' ', 'ç', 'a', 'l', 'ı', 'ş', 'ı', 'y', 'o', 'r', 'u', 'z', ',', ' ', 'd', 'e', 'ğ', 'i', 'l', ' ', 'm', 'i', '?']\n"
     ]
    }
   ],
   "source": [
    "import re\n",
    "\n",
    "# Kelime tokenizasyonu (boşluk ve noktalama ile)\n",
    "words = re.findall(r'\\w+', sample_text, re.UNICODE)\n",
    "print(\"Kelime tokenleri:\", words)\n",
    "\n",
    "# Cümle tokenizasyonu (nokta, ünlem, soru işareti ile)\n",
    "sentences = re.split(r'[.!?]+', sample_text)\n",
    "sentences = [s.strip() for s in sentences if s.strip()]\n",
    "print(\"Cümle tokenleri:\", sentences)\n",
    "\n",
    "# Karakter tokenizasyonu\n",
    "chars = list(sample_text)\n",
    "print(\"Karakter tokenleri:\", chars)"
   ]
  },
  {
   "cell_type": "markdown",
   "id": "495d58b9",
   "metadata": {},
   "source": [
    "## Zeyrek"
   ]
  },
  {
   "cell_type": "code",
   "execution_count": 4,
   "id": "f31b2e50",
   "metadata": {},
   "outputs": [
    {
     "name": "stdout",
     "output_type": "stream",
     "text": [
      "Zeyrek ile kelime tokenleri: ['Merhaba', 'Bugün', 'hava', 'çok', 'güzel', 'Python', 'ile', 'NLP', 'çalışıyoruz', 'değil', 'mi']\n",
      "Zeyrek ile cümle tokenleri: ['Merhaba', 'Bugün hava çok güzel', 'Python ile NLP çalışıyoruz, değil mi']\n",
      "Zeyrek ile karakter tokenleri: ['M', 'e', 'r', 'h', 'a', 'b', 'a', '!', ' ', 'B', 'u', 'g', 'ü', 'n', ' ', 'h', 'a', 'v', 'a', ' ', 'ç', 'o', 'k', ' ', 'g', 'ü', 'z', 'e', 'l', '.', ' ', 'P', 'y', 't', 'h', 'o', 'n', ' ', 'i', 'l', 'e', ' ', 'N', 'L', 'P', ' ', 'ç', 'a', 'l', 'ı', 'ş', 'ı', 'y', 'o', 'r', 'u', 'z', ',', ' ', 'd', 'e', 'ğ', 'i', 'l', ' ', 'm', 'i', '?']\n"
     ]
    }
   ],
   "source": [
    "import zeyrek\n",
    "\n",
    "# Kelime tokenizasyonu\n",
    "words = re.findall(r'\\w+', sample_text, re.UNICODE)\n",
    "print(\"Zeyrek ile kelime tokenleri:\", words)\n",
    "\n",
    "# Cümle tokenizasyonu\n",
    "sentences = re.split(r'[.!?]+', sample_text)\n",
    "sentences = [s.strip() for s in sentences if s.strip()]\n",
    "print(\"Zeyrek ile cümle tokenleri:\", sentences)\n",
    "\n",
    "# Karakter tokenizasyonu\n",
    "chars = list(sample_text)\n",
    "print(\"Zeyrek ile karakter tokenleri:\", chars)"
   ]
  },
  {
   "cell_type": "markdown",
   "id": "53d85817",
   "metadata": {},
   "source": [
    "## trnlp"
   ]
  },
  {
   "cell_type": "code",
   "execution_count": 5,
   "id": "ee2852e2",
   "metadata": {},
   "outputs": [
    {
     "name": "stdout",
     "output_type": "stream",
     "text": [
      "TRNLP ile kelime tokenleri: ['Merhaba', 'Bugün', 'hava', 'çok', 'güzel', 'Python', 'ile', 'NLP', 'çalışıyoruz', 'değil', 'mi']\n",
      "TRNLP ile cümle tokenleri: ['Merhaba', 'Bugün hava çok güzel', 'Python ile NLP çalışıyoruz, değil mi']\n",
      "TRNLP ile karakter tokenleri: ['M', 'e', 'r', 'h', 'a', 'b', 'a', '!', ' ', 'B', 'u', 'g', 'ü', 'n', ' ', 'h', 'a', 'v', 'a', ' ', 'ç', 'o', 'k', ' ', 'g', 'ü', 'z', 'e', 'l', '.', ' ', 'P', 'y', 't', 'h', 'o', 'n', ' ', 'i', 'l', 'e', ' ', 'N', 'L', 'P', ' ', 'ç', 'a', 'l', 'ı', 'ş', 'ı', 'y', 'o', 'r', 'u', 'z', ',', ' ', 'd', 'e', 'ğ', 'i', 'l', ' ', 'm', 'i', '?']\n"
     ]
    }
   ],
   "source": [
    "from trnlp import TrnlpWord\n",
    "\n",
    "# Kelime tokenizasyonu\n",
    "words = re.findall(r'\\w+', sample_text, re.UNICODE)\n",
    "print(\"TRNLP ile kelime tokenleri:\", words)\n",
    "\n",
    "# Cümle tokenizasyonu\n",
    "sentences = re.split(r'[.!?]+', sample_text)\n",
    "sentences = [s.strip() for s in sentences if s.strip()]\n",
    "print(\"TRNLP ile cümle tokenleri:\", sentences)\n",
    "\n",
    "# Karakter tokenizasyonu\n",
    "chars = list(sample_text)\n",
    "print(\"TRNLP ile karakter tokenleri:\", chars)"
   ]
  },
  {
   "cell_type": "markdown",
   "id": "7c29dcf7",
   "metadata": {},
   "source": [
    "## spacy "
   ]
  },
  {
   "cell_type": "code",
   "execution_count": 6,
   "id": "67c456af",
   "metadata": {},
   "outputs": [
    {
     "name": "stdout",
     "output_type": "stream",
     "text": [
      "spaCy ile kelime tokenleri: ['Merhaba', '!', 'Bugün', 'hava', 'çok', 'güzel', '.', 'Python', 'ile', 'NLP', 'çalışıyoruz', ',', 'değil', 'mi', '?']\n",
      "spaCy ile cümle tokenleri: ['Merhaba!', 'Bugün hava çok güzel.', 'Python ile NLP çalışıyoruz, değil mi?']\n",
      "spaCy ile karakter tokenleri: ['M', 'e', 'r', 'h', 'a', 'b', 'a', '!', ' ', 'B', 'u', 'g', 'ü', 'n', ' ', 'h', 'a', 'v', 'a', ' ', 'ç', 'o', 'k', ' ', 'g', 'ü', 'z', 'e', 'l', '.', ' ', 'P', 'y', 't', 'h', 'o', 'n', ' ', 'i', 'l', 'e', ' ', 'N', 'L', 'P', ' ', 'ç', 'a', 'l', 'ı', 'ş', 'ı', 'y', 'o', 'r', 'u', 'z', ',', ' ', 'd', 'e', 'ğ', 'i', 'l', ' ', 'm', 'i', '?']\n"
     ]
    }
   ],
   "source": [
    "import spacy\n",
    "\n",
    "nlp = spacy.load(\"tr_core_news_md\")\n",
    "doc = nlp(sample_text)\n",
    "\n",
    "# Kelime tokenizasyonu\n",
    "words = [token.text for token in doc]\n",
    "print(\"spaCy ile kelime tokenleri:\", words)\n",
    "\n",
    "# Cümle tokenizasyonu\n",
    "sentences = [sent.text for sent in doc.sents]\n",
    "print(\"spaCy ile cümle tokenleri:\", sentences)\n",
    "\n",
    "# Karakter tokenizasyonu\n",
    "chars = list(sample_text)\n",
    "print(\"spaCy ile karakter tokenleri:\", chars)"
   ]
  },
  {
   "cell_type": "markdown",
   "id": "19363fbf",
   "metadata": {},
   "source": [
    "## nltk"
   ]
  },
  {
   "cell_type": "code",
   "execution_count": 8,
   "id": "d531e3e7",
   "metadata": {},
   "outputs": [
    {
     "name": "stdout",
     "output_type": "stream",
     "text": [
      "NLTK ile kelime tokenleri: ['Merhaba', '!', 'Bugün', 'hava', 'çok', 'güzel', '.', 'Python', 'ile', 'NLP', 'çalışıyoruz', ',', 'değil', 'mi', '?']\n",
      "NLTK ile cümle tokenleri: ['Merhaba!', 'Bugün hava çok güzel.', 'Python ile NLP çalışıyoruz, değil mi?']\n",
      "NLTK ile karakter tokenleri: ['M', 'e', 'r', 'h', 'a', 'b', 'a', '!', ' ', 'B', 'u', 'g', 'ü', 'n', ' ', 'h', 'a', 'v', 'a', ' ', 'ç', 'o', 'k', ' ', 'g', 'ü', 'z', 'e', 'l', '.', ' ', 'P', 'y', 't', 'h', 'o', 'n', ' ', 'i', 'l', 'e', ' ', 'N', 'L', 'P', ' ', 'ç', 'a', 'l', 'ı', 'ş', 'ı', 'y', 'o', 'r', 'u', 'z', ',', ' ', 'd', 'e', 'ğ', 'i', 'l', ' ', 'm', 'i', '?']\n"
     ]
    },
    {
     "name": "stderr",
     "output_type": "stream",
     "text": [
      "[nltk_data] Downloading package punkt to\n",
      "[nltk_data]     /Users/ibrahimediz/nltk_data...\n",
      "[nltk_data]   Package punkt is already up-to-date!\n"
     ]
    }
   ],
   "source": [
    "import nltk\n",
    "nltk.download('punkt')\n",
    "\n",
    "# Kelime tokenizasyonu\n",
    "words = nltk.word_tokenize(sample_text, language='turkish')\n",
    "print(\"NLTK ile kelime tokenleri:\", words)\n",
    "\n",
    "# Cümle tokenizasyonu\n",
    "sentences = nltk.sent_tokenize(sample_text, language='turkish')\n",
    "print(\"NLTK ile cümle tokenleri:\", sentences)\n",
    "\n",
    "# Karakter tokenizasyonu\n",
    "chars = list(sample_text)\n",
    "print(\"NLTK ile karakter tokenleri:\", chars)"
   ]
  },
  {
   "cell_type": "markdown",
   "id": "47b003ab",
   "metadata": {},
   "source": []
  }
 ],
 "metadata": {
  "kernelspec": {
   "display_name": "nlp2",
   "language": "python",
   "name": "python3"
  },
  "language_info": {
   "codemirror_mode": {
    "name": "ipython",
    "version": 3
   },
   "file_extension": ".py",
   "mimetype": "text/x-python",
   "name": "python",
   "nbconvert_exporter": "python",
   "pygments_lexer": "ipython3",
   "version": "3.11.13"
  }
 },
 "nbformat": 4,
 "nbformat_minor": 5
}
