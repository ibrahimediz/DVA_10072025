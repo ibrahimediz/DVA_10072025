{
 "cells": [
  {
   "cell_type": "markdown",
   "id": "f9d5f1d7",
   "metadata": {},
   "source": [
    "<!-- \"ali ata bindi\"\n",
    "[ali,ata,bindi] unigram\n",
    "[ali ata,ata bindi] \n",
    "[ali ata bindi] -->\n"
   ]
  },
  {
   "cell_type": "code",
   "execution_count": 4,
   "id": "45f522cb",
   "metadata": {},
   "outputs": [
    {
     "name": "stdout",
     "output_type": "stream",
     "text": [
      "Unigram [['bugün'], ['hava'], ['çok'], ['güzel'], ['ve'], ['güneşli'], ['yarın'], ['ise'], ['yağmurlu'], ['olacak']]\n",
      "Bigram [['bugün', 'hava'], ['hava', 'çok'], ['çok', 'güzel'], ['güzel', 've'], ['ve', 'güneşli'], ['güneşli', 'yarın'], ['yarın', 'ise'], ['ise', 'yağmurlu'], ['yağmurlu', 'olacak']]\n",
      "Trigram [['bugün', 'hava', 'çok'], ['hava', 'çok', 'güzel'], ['çok', 'güzel', 've'], ['güzel', 've', 'güneşli'], ['ve', 'güneşli', 'yarın'], ['güneşli', 'yarın', 'ise'], ['yarın', 'ise', 'yağmurlu'], ['ise', 'yağmurlu', 'olacak']]\n"
     ]
    }
   ],
   "source": [
    "ornek_metin = \"Bugün hava çok güzel ve güneşli.Yarın ise yağmurlu olacak.\"\n",
    "import re\n",
    "\n",
    "def ngram(metin, n):\n",
    "    return [metin[i:i+n] for i in range(len(metin)-n+1)]\n",
    "\n",
    "kelimeler = re.findall(\"[\\w]+\", ornek_metin.lower())\n",
    "\n",
    "print(\"Unigram\",ngram(kelimeler, 1))\n",
    "print(\"Bigram\",ngram(kelimeler, 2))\n",
    "print(\"Trigram\",ngram(kelimeler, 3))"
   ]
  },
  {
   "cell_type": "code",
   "execution_count": 5,
   "id": "efc067cc",
   "metadata": {},
   "outputs": [
    {
     "name": "stdout",
     "output_type": "stream",
     "text": [
      "[('bugün',), ('hava',), ('çok',), ('güzel',), ('ve',), ('güneşli.yarın',), ('ise',), ('yağmurlu',), ('olacak',), ('.',)]\n",
      "[('bugün', 'hava'), ('hava', 'çok'), ('çok', 'güzel'), ('güzel', 've'), ('ve', 'güneşli.yarın'), ('güneşli.yarın', 'ise'), ('ise', 'yağmurlu'), ('yağmurlu', 'olacak'), ('olacak', '.')]\n",
      "[('bugün', 'hava', 'çok'), ('hava', 'çok', 'güzel'), ('çok', 'güzel', 've'), ('güzel', 've', 'güneşli.yarın'), ('ve', 'güneşli.yarın', 'ise'), ('güneşli.yarın', 'ise', 'yağmurlu'), ('ise', 'yağmurlu', 'olacak'), ('yağmurlu', 'olacak', '.')]\n"
     ]
    }
   ],
   "source": [
    "import nltk\n",
    "\n",
    "tokens = nltk.word_tokenize(ornek_metin.lower())\n",
    "\n",
    "unigrams = list(nltk.ngrams(tokens,1))\n",
    "bigrams = list(nltk.ngrams(tokens,2))\n",
    "trigrams = list(nltk.ngrams(tokens,3))\n",
    "\n",
    "print(unigrams)\n",
    "print(bigrams)\n",
    "print(trigrams)"
   ]
  },
  {
   "cell_type": "code",
   "execution_count": 6,
   "id": "86d587aa",
   "metadata": {},
   "outputs": [
    {
     "name": "stdout",
     "output_type": "stream",
     "text": [
      "spaCy Unigramlar: [('bugün',), ('hava',), ('çok',), ('güzel',), ('ve',), ('güneşli',), ('yarın',), ('ise',), ('yağmurlu',), ('olacak',)]\n",
      "spaCy Bigramlar: [('bugün', 'hava'), ('hava', 'çok'), ('çok', 'güzel'), ('güzel', 've'), ('ve', 'güneşli'), ('güneşli', 'yarın'), ('yarın', 'ise'), ('ise', 'yağmurlu'), ('yağmurlu', 'olacak')]\n",
      "spaCy Trigramlar: [('bugün', 'hava', 'çok'), ('hava', 'çok', 'güzel'), ('çok', 'güzel', 've'), ('güzel', 've', 'güneşli'), ('ve', 'güneşli', 'yarın'), ('güneşli', 'yarın', 'ise'), ('yarın', 'ise', 'yağmurlu'), ('ise', 'yağmurlu', 'olacak')]\n"
     ]
    }
   ],
   "source": [
    "import spacy\n",
    "\n",
    "nlp = spacy.blank(\"tr\")\n",
    "doc = nlp(ornek_metin)\n",
    "tokens = [token.text.lower() for token in doc if token.is_alpha]\n",
    "\n",
    "def ngrams_spacy(tokens, n):\n",
    "    return [tuple(tokens[i:i+n]) for i in range(len(tokens)-n+1)]\n",
    "\n",
    "print(\"spaCy Unigramlar:\", ngrams_spacy(tokens, 1))\n",
    "print(\"spaCy Bigramlar:\", ngrams_spacy(tokens, 2))\n",
    "print(\"spaCy Trigramlar:\", ngrams_spacy(tokens, 3))"
   ]
  },
  {
   "cell_type": "code",
   "execution_count": null,
   "id": "7143ff94",
   "metadata": {},
   "outputs": [],
   "source": []
  }
 ],
 "metadata": {
  "kernelspec": {
   "display_name": "nlp2",
   "language": "python",
   "name": "python3"
  },
  "language_info": {
   "codemirror_mode": {
    "name": "ipython",
    "version": 3
   },
   "file_extension": ".py",
   "mimetype": "text/x-python",
   "name": "python",
   "nbconvert_exporter": "python",
   "pygments_lexer": "ipython3",
   "version": "3.11.13"
  }
 },
 "nbformat": 4,
 "nbformat_minor": 5
}
