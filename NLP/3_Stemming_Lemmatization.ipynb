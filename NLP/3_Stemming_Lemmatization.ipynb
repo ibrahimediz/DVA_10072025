{
 "cells": [
  {
   "cell_type": "markdown",
   "id": "b81dd950",
   "metadata": {},
   "source": [
    "# Stemming\n",
    "* Kelimenin Kökünü bulur (Morfolojik Analiz yapmaz)\n",
    "* Daha hızlı ama daha az doğru\n",
    "* Örnek: \"gelecekler\" -> \"gelecek\"\n"
   ]
  },
  {
   "cell_type": "markdown",
   "id": "77b45053",
   "metadata": {},
   "source": [
    "# Lemmatization (Sözlüksel Kök Bulma)\n",
    "* Kelimenin **sözlükteki temel formunu** bulur\n",
    "* Daha yavaş ama daha doğru\n",
    "* Örnek: \"gittim\" -> \"git\""
   ]
  },
  {
   "cell_type": "code",
   "execution_count": 1,
   "id": "152653d0",
   "metadata": {},
   "outputs": [
    {
     "name": "stdout",
     "output_type": "stream",
     "text": [
      "Test Kelimeleri:\n",
      " 1. kitaplarında\n",
      " 2. evlerimizden\n",
      " 3. çocuklarımız\n",
      " 4. arabaların\n",
      " 5. kedilerin\n",
      " 6. gidiyorum\n",
      " 7. gelecekler\n",
      " 8. yapmışlar\n",
      " 9. koşuyordu\n",
      "10. okuyacağım\n",
      "11. güzeller\n",
      "12. büyüklerin\n",
      "13. küçücük\n",
      "14. anlamlandıramadıklarımızdan\n",
      "15. çalışabileceklerinden\n",
      "16. düşünebiliyormuş\n",
      "\n",
      "Toplam 16 kelime test edilecek.\n"
     ]
    }
   ],
   "source": [
    "# Test için Türkçe kelimeler - farklı morfolojik yapılar\n",
    "test_words = [\n",
    "    # İsimler\n",
    "    \"kitaplarında\",\n",
    "    \"evlerimizden\", \n",
    "    \"çocuklarımız\",\n",
    "    \"arabaların\",\n",
    "    \"kedilerin\",\n",
    "    \n",
    "    # Fiiller\n",
    "    \"gidiyorum\",\n",
    "    \"gelecekler\",\n",
    "    \"yapmışlar\",\n",
    "    \"koşuyordu\",\n",
    "    \"okuyacağım\",\n",
    "    \n",
    "    # Sıfatlar\n",
    "    \"güzeller\",\n",
    "    \"büyüklerin\",\n",
    "    \"küçücük\",\n",
    "    \n",
    "    # Karmaşık kelimeler\n",
    "    \"anlamlandıramadıklarımızdan\",\n",
    "    \"çalışabileceklerinden\",\n",
    "    \"düşünebiliyormuş\"\n",
    "]\n",
    "\n",
    "print(\"Test Kelimeleri:\")\n",
    "for i, word in enumerate(test_words, 1):\n",
    "    print(f\"{i:2d}. {word}\")\n",
    "\n",
    "print(f\"\\nToplam {len(test_words)} kelime test edilecek.\")"
   ]
  },
  {
   "cell_type": "markdown",
   "id": "f6a702be",
   "metadata": {},
   "source": [
    "### Python"
   ]
  },
  {
   "cell_type": "code",
   "execution_count": 2,
   "id": "1ea038bc",
   "metadata": {},
   "outputs": [
    {
     "name": "stdout",
     "output_type": "stream",
     "text": [
      "PYTHON (Basit Stemming) SONUÇLARI:\n",
      "============================================================\n",
      "Kelime                    Stem            Lemma          \n",
      "------------------------------------------------------------\n",
      "kitaplarında              kitap           N/A (Python standart kütüphanelerde yok)\n",
      "evlerimizden              evlerimiz       N/A (Python standart kütüphanelerde yok)\n",
      "çocuklarımız              çocuk           N/A (Python standart kütüphanelerde yok)\n",
      "arabaların                araba           N/A (Python standart kütüphanelerde yok)\n",
      "kedilerin                 kedi            N/A (Python standart kütüphanelerde yok)\n",
      "gidiyorum                 gid             N/A (Python standart kütüphanelerde yok)\n",
      "gelecekler                gel             N/A (Python standart kütüphanelerde yok)\n",
      "yapmışlar                 yap             N/A (Python standart kütüphanelerde yok)\n",
      "koşuyordu                 koş             N/A (Python standart kütüphanelerde yok)\n",
      "okuyacağım                okuy            N/A (Python standart kütüphanelerde yok)\n",
      "güzeller                  güzel           N/A (Python standart kütüphanelerde yok)\n",
      "büyüklerin                büyük           N/A (Python standart kütüphanelerde yok)\n",
      "küçücük                   küçü            N/A (Python standart kütüphanelerde yok)\n",
      "anlamlandıramadıklarımızdan anlamlandıramadıklarımız N/A (Python standart kütüphanelerde yok)\n",
      "çalışabileceklerinden     çalışabilecek   N/A (Python standart kütüphanelerde yok)\n",
      "düşünebiliyormuş          düşünebiliyor   N/A (Python standart kütüphanelerde yok)\n"
     ]
    }
   ],
   "source": [
    "import re\n",
    "\n",
    "def simple_turkish_stemmer(word):\n",
    "    \"\"\"Basit Türkçe stemmer - sadece yaygın ekleri kaldırır\"\"\"\n",
    "    # Yaygın Türkçe ekleri (basitleştirilmiş)\n",
    "    suffixes = [\n",
    "        # İsim ekleri\n",
    "        'larında', 'lerinde', 'larından', 'lerinden',\n",
    "        'larımız', 'lerimiz', 'larınız', 'leriniz',\n",
    "        'ların', 'lerin', 'larda', 'lerde',\n",
    "        'lar', 'ler', 'dan', 'den', 'tan', 'ten',\n",
    "        'nın', 'nin', 'nun', 'nün', 'ın', 'in', 'un', 'ün',\n",
    "        'da', 'de', 'ta', 'te', 'ya', 'ye', 'na', 'ne',\n",
    "        'ı', 'i', 'u', 'ü', 'a', 'e',\n",
    "        \n",
    "        # Fiil ekleri\n",
    "        'iyorum', 'uyorum', 'üyorum', 'ıyorum',\n",
    "        'ecekler', 'acaklar', 'ecekler', 'acaklar',\n",
    "        'mışlar', 'muşlar', 'müşler', 'mişler',\n",
    "        'yordu', 'uyordu', 'üyordu', 'ıyordu',\n",
    "        'acağım', 'eceğim', 'acağım', 'eceğim',\n",
    "        'iyor', 'uyor', 'üyor', 'ıyor',\n",
    "        'mış', 'muş', 'müş', 'miş',\n",
    "        'dı', 'di', 'du', 'dü', 'tı', 'ti', 'tu', 'tü',\n",
    "        'ar', 'er', 'ır', 'ir', 'ur', 'ür',\n",
    "        'im', 'um', 'üm', 'ım',\n",
    "        \n",
    "        # Sıfat ekleri\n",
    "        'ler', 'lar', 'cük', 'cik', 'cuk', 'cük'\n",
    "    ]\n",
    "    \n",
    "    # En uzun eşleşen eki bul ve kaldır\n",
    "    word_lower = word.lower()\n",
    "    for suffix in sorted(suffixes, key=len, reverse=True):\n",
    "        if word_lower.endswith(suffix) and len(word_lower) > len(suffix):\n",
    "            return word_lower[:-len(suffix)]\n",
    "    \n",
    "    return word_lower\n",
    "\n",
    "def python_stemming_lemmatization(words):\n",
    "    \"\"\"Python ile basit stemming (lemmatization yok)\"\"\"\n",
    "    results = []\n",
    "    for word in words:\n",
    "        stem = simple_turkish_stemmer(word)\n",
    "        results.append({\n",
    "            'word': word,\n",
    "            'stem': stem,\n",
    "            'lemma': 'N/A (Python standart kütüphanelerde yok)'\n",
    "        })\n",
    "    return results\n",
    "\n",
    "# Test et\n",
    "python_results = python_stemming_lemmatization(test_words)\n",
    "\n",
    "print(\"PYTHON (Basit Stemming) SONUÇLARI:\")\n",
    "print(\"=\"*60)\n",
    "print(f\"{'Kelime':<25} {'Stem':<15} {'Lemma':<15}\")\n",
    "print(\"-\"*60)\n",
    "for result in python_results:\n",
    "    print(f\"{result['word']:<25} {result['stem']:<15} {result['lemma']:<15}\")"
   ]
  },
  {
   "cell_type": "code",
   "execution_count": null,
   "id": "8fde1b3d",
   "metadata": {},
   "outputs": [],
   "source": []
  }
 ],
 "metadata": {
  "kernelspec": {
   "display_name": "nlp2",
   "language": "python",
   "name": "python3"
  },
  "language_info": {
   "codemirror_mode": {
    "name": "ipython",
    "version": 3
   },
   "file_extension": ".py",
   "mimetype": "text/x-python",
   "name": "python",
   "nbconvert_exporter": "python",
   "pygments_lexer": "ipython3",
   "version": "3.11.13"
  }
 },
 "nbformat": 4,
 "nbformat_minor": 5
}
