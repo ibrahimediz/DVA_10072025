{
 "cells": [
  {
   "cell_type": "code",
   "execution_count": 25,
   "id": "3a7e31c1",
   "metadata": {},
   "outputs": [
    {
     "name": "stdout",
     "output_type": "stream",
     "text": [
      "Hi\n"
     ]
    }
   ],
   "source": [
    "print(\"Hi\")"
   ]
  },
  {
   "cell_type": "markdown",
   "id": "6ae15f37",
   "metadata": {},
   "source": [
    "kütüphaneleri yükle"
   ]
  },
  {
   "cell_type": "code",
   "execution_count": 26,
   "id": "b186784d",
   "metadata": {},
   "outputs": [],
   "source": [
    "import torch\n",
    "import torch.nn as nn\n",
    "import torch.nn.functional as F\n",
    "import torch.optim as optim\n",
    "import torchvision\n",
    "import torchvision.transforms as transforms # görüntü preprocessing işlemleri\n",
    "device = torch.device('cuda' if torch.cuda.is_available() else 'cpu')\n",
    "import matplotlib.pyplot as plt\n",
    "import numpy as np"
   ]
  },
  {
   "cell_type": "markdown",
   "id": "2535c2dd",
   "metadata": {},
   "source": [
    "veri seti yükleme"
   ]
  },
  {
   "cell_type": "code",
   "execution_count": 27,
   "id": "b525d7b5",
   "metadata": {},
   "outputs": [],
   "source": [
    "def get_data_loaders(batch_size=128):\n",
    "    transform = transforms.Compose([\n",
    "        transforms.ToTensor(), # görüntüyü tensore çevir 0-255 -> 0-1\n",
    "        transforms.Normalize((0.5,),(0.5,)) # -1 <-> 1 \n",
    "        ,])\n",
    "    train_set = torchvision.datasets.MNIST(root=\"./data\",train=True,download=True,transform=transform)\n",
    "    test_set = torchvision.datasets.MNIST(root=\"./data\",train=False,download=True,transform=transform)\n",
    "    train_loader = torch.utils.data.DataLoader(train_set,batch_size=batch_size,shuffle=True)\n",
    "    test_loader = torch.utils.data.DataLoader(test_set,batch_size=batch_size,shuffle=False)\n",
    "    return train_loader,test_loader\n",
    "\n",
    "train_dataloader,test_dataloader = get_data_loaders()"
   ]
  },
  {
   "cell_type": "markdown",
   "id": "c8d39d31",
   "metadata": {},
   "source": [
    "veri görselleştirme"
   ]
  },
  {
   "cell_type": "code",
   "execution_count": 28,
   "id": "ab6399dc",
   "metadata": {},
   "outputs": [
    {
     "name": "stdout",
     "output_type": "stream",
     "text": [
      "torch.Size([1, 28, 28])\n"
     ]
    },
    {
     "data": {
      "image/png": "[encoded data removed]",
      "text/plain": [
       "<Figure size 1000x500 with 5 Axes>"
      ]
     },
     "metadata": {},
     "output_type": "display_data"
    }
   ],
   "source": [
    "def visualize_data(dataloader,n):\n",
    "    images,labels = next(iter(dataloader))\n",
    "    fig,axis = plt.subplots(1,n,figsize=(10,5))\n",
    "    print(images[0].shape)\n",
    "    for i in range(n):\n",
    "        axis[i].imshow(images[i].squeeze(),cmap=\"gray\")\n",
    "        axis[i].set_title(f\"Label : {labels[i].item()}\")\n",
    "        axis[i].axis(\"off\")\n",
    "    plt.show()\n",
    "visualize_data(train_dataloader,5)"
   ]
  },
  {
   "cell_type": "markdown",
   "id": "0d2059f9",
   "metadata": {},
   "source": [
    "model tanımlama"
   ]
  },
  {
   "cell_type": "code",
   "execution_count": 29,
   "id": "5c8527a4",
   "metadata": {},
   "outputs": [],
   "source": [
    "class NeuralNetwork(nn.Module):\n",
    "    def __init__(self):\n",
    "        super(NeuralNetwork,self).__init__()\n",
    "        # görüntüyü 1D vektöre dönüştür\n",
    "        self.flatten = nn.Flatten()\n",
    "        # tam bağlı katmanların oluşturulması\n",
    "        self.fc1 = nn.Linear(28*28,128)\n",
    "        self.fc2 = nn.Linear(128,64)\n",
    "        self.fc3 = nn.Linear(64,32)\n",
    "        self.fcFin = nn.Linear(32,10)\n",
    "        # aktivasyon fonksiyonlarımız\n",
    "        self.relu = nn.ReLU()\n",
    "        self.tanh = nn.Tanh()\n",
    "        self.sigmoid = nn.Sigmoid()\n",
    "\n",
    "\n",
    "    def forward(self,x):\n",
    "        # initial x = 28*28\n",
    "        x = self.flatten(x)\n",
    "        x = self.fc1(x)\n",
    "        x = self.relu(x)\n",
    "        x = self.fc2(x)\n",
    "        x = self.relu(x)\n",
    "        x = self.fc3(x)\n",
    "        x = self.sigmoid(x)\n",
    "        x = self.fcFin(x)\n",
    "        return x\n",
    "        "
   ]
  },
  {
   "cell_type": "markdown",
   "id": "c976ee16",
   "metadata": {},
   "source": [
    "oluştur ve derle"
   ]
  },
  {
   "cell_type": "code",
   "execution_count": 30,
   "id": "7d48f28d",
   "metadata": {},
   "outputs": [],
   "source": [
    "model = NeuralNetwork().to(device)\n",
    "define_loss_and_optimizer = lambda model: (nn.CrossEntropyLoss(),optim.Adam(model.parameters(),lr=0.001))\n",
    "criterion,optimizer = define_loss_and_optimizer(model)"
   ]
  },
  {
   "cell_type": "markdown",
   "id": "e8db4182",
   "metadata": {},
   "source": [
    "eğitim"
   ]
  },
  {
   "cell_type": "code",
   "execution_count": 31,
   "id": "d11e9135",
   "metadata": {},
   "outputs": [
    {
     "name": "stdout",
     "output_type": "stream",
     "text": [
      "1/200, Loss:  0.00505\n",
      "2/200, Loss:  0.00504\n",
      "3/200, Loss:  0.00491\n",
      "4/200, Loss:  0.00502\n",
      "5/200, Loss:  0.00494\n",
      "6/200, Loss:  0.00496\n",
      "7/200, Loss:  0.00493\n",
      "8/200, Loss:  0.00486\n",
      "9/200, Loss:  0.00487\n",
      "10/200, Loss:  0.00487\n",
      "11/200, Loss:  0.00484\n",
      "12/200, Loss:  0.00481\n",
      "13/200, Loss:  0.00484\n",
      "14/200, Loss:  0.00484\n",
      "15/200, Loss:  0.00478\n",
      "16/200, Loss:  0.00474\n",
      "17/200, Loss:  0.00472\n",
      "18/200, Loss:  0.00472\n",
      "19/200, Loss:  0.00469\n",
      "20/200, Loss:  0.00464\n",
      "21/200, Loss:  0.00466\n",
      "22/200, Loss:  0.00464\n",
      "23/200, Loss:  0.00463\n",
      "24/200, Loss:  0.00462\n",
      "25/200, Loss:  0.00457\n",
      "26/200, Loss:  0.00460\n",
      "27/200, Loss:  0.00448\n",
      "28/200, Loss:  0.00450\n",
      "29/200, Loss:  0.00447\n",
      "30/200, Loss:  0.00446\n",
      "31/200, Loss:  0.00448\n",
      "32/200, Loss:  0.00438\n",
      "33/200, Loss:  0.00436\n",
      "34/200, Loss:  0.00435\n",
      "35/200, Loss:  0.00426\n",
      "36/200, Loss:  0.00422\n",
      "37/200, Loss:  0.00416\n",
      "38/200, Loss:  0.00415\n",
      "39/200, Loss:  0.00426\n",
      "40/200, Loss:  0.00409\n",
      "41/200, Loss:  0.00422\n",
      "42/200, Loss:  0.00405\n",
      "43/200, Loss:  0.00388\n",
      "44/200, Loss:  0.00405\n",
      "45/200, Loss:  0.00402\n",
      "46/200, Loss:  0.00390\n",
      "47/200, Loss:  0.00385\n",
      "48/200, Loss:  0.00389\n",
      "49/200, Loss:  0.00384\n",
      "50/200, Loss:  0.00381\n",
      "51/200, Loss:  0.00371\n",
      "52/200, Loss:  0.00375\n",
      "53/200, Loss:  0.00367\n",
      "54/200, Loss:  0.00360\n",
      "55/200, Loss:  0.00359\n",
      "56/200, Loss:  0.00363\n",
      "57/200, Loss:  0.00365\n",
      "58/200, Loss:  0.00349\n",
      "59/200, Loss:  0.00366\n",
      "60/200, Loss:  0.00349\n",
      "61/200, Loss:  0.00360\n",
      "62/200, Loss:  0.00343\n",
      "63/200, Loss:  0.00349\n",
      "64/200, Loss:  0.00339\n",
      "65/200, Loss:  0.00348\n",
      "66/200, Loss:  0.00341\n",
      "67/200, Loss:  0.00348\n",
      "68/200, Loss:  0.00333\n",
      "69/200, Loss:  0.00350\n",
      "70/200, Loss:  0.00331\n",
      "71/200, Loss:  0.00315\n",
      "72/200, Loss:  0.00331\n",
      "73/200, Loss:  0.00338\n",
      "74/200, Loss:  0.00326\n",
      "75/200, Loss:  0.00332\n",
      "76/200, Loss:  0.00313\n",
      "77/200, Loss:  0.00301\n",
      "78/200, Loss:  0.00321\n",
      "79/200, Loss:  0.00326\n",
      "80/200, Loss:  0.00318\n",
      "81/200, Loss:  0.00311\n",
      "82/200, Loss:  0.00311\n",
      "83/200, Loss:  0.00300\n",
      "84/200, Loss:  0.00313\n",
      "85/200, Loss:  0.00306\n",
      "86/200, Loss:  0.00285\n",
      "87/200, Loss:  0.00300\n",
      "88/200, Loss:  0.00293\n",
      "89/200, Loss:  0.00300\n",
      "90/200, Loss:  0.00321\n",
      "91/200, Loss:  0.00293\n",
      "92/200, Loss:  0.00311\n",
      "93/200, Loss:  0.00275\n",
      "94/200, Loss:  0.00303\n",
      "95/200, Loss:  0.00280\n",
      "96/200, Loss:  0.00307\n",
      "97/200, Loss:  0.00302\n",
      "98/200, Loss:  0.00288\n",
      "99/200, Loss:  0.00289\n",
      "100/200, Loss:  0.00282\n",
      "101/200, Loss:  0.00285\n",
      "102/200, Loss:  0.00291\n",
      "103/200, Loss:  0.00275\n",
      "104/200, Loss:  0.00257\n",
      "105/200, Loss:  0.00278\n",
      "106/200, Loss:  0.00281\n",
      "107/200, Loss:  0.00256\n",
      "108/200, Loss:  0.00272\n",
      "109/200, Loss:  0.00276\n",
      "110/200, Loss:  0.00252\n",
      "111/200, Loss:  0.00277\n",
      "112/200, Loss:  0.00255\n",
      "113/200, Loss:  0.00279\n",
      "114/200, Loss:  0.00266\n",
      "115/200, Loss:  0.00265\n",
      "116/200, Loss:  0.00260\n",
      "117/200, Loss:  0.00275\n",
      "118/200, Loss:  0.00263\n",
      "119/200, Loss:  0.00256\n",
      "120/200, Loss:  0.00264\n",
      "121/200, Loss:  0.00263\n",
      "122/200, Loss:  0.00237\n",
      "123/200, Loss:  0.00262\n",
      "124/200, Loss:  0.00245\n",
      "125/200, Loss:  0.00241\n",
      "126/200, Loss:  0.00260\n",
      "127/200, Loss:  0.00254\n",
      "128/200, Loss:  0.00243\n",
      "129/200, Loss:  0.00224\n",
      "130/200, Loss:  0.00232\n",
      "131/200, Loss:  0.00241\n",
      "132/200, Loss:  0.00224\n",
      "133/200, Loss:  0.00230\n",
      "134/200, Loss:  0.00252\n",
      "135/200, Loss:  0.00232\n",
      "136/200, Loss:  0.00237\n",
      "137/200, Loss:  0.00246\n",
      "138/200, Loss:  0.00218\n",
      "139/200, Loss:  0.00240\n",
      "140/200, Loss:  0.00256\n",
      "141/200, Loss:  0.00234\n",
      "142/200, Loss:  0.00230\n",
      "143/200, Loss:  0.00228\n",
      "144/200, Loss:  0.00256\n",
      "145/200, Loss:  0.00237\n",
      "146/200, Loss:  0.00225\n",
      "147/200, Loss:  0.00224\n",
      "148/200, Loss:  0.00225\n",
      "149/200, Loss:  0.00223\n",
      "150/200, Loss:  0.00240\n",
      "151/200, Loss:  0.00244\n",
      "152/200, Loss:  0.00234\n",
      "153/200, Loss:  0.00241\n",
      "154/200, Loss:  0.00237\n",
      "155/200, Loss:  0.00215\n",
      "156/200, Loss:  0.00236\n",
      "157/200, Loss:  0.00213\n",
      "158/200, Loss:  0.00226\n",
      "159/200, Loss:  0.00218\n",
      "160/200, Loss:  0.00223\n",
      "161/200, Loss:  0.00223\n",
      "162/200, Loss:  0.00199\n",
      "163/200, Loss:  0.00226\n",
      "164/200, Loss:  0.00218\n",
      "165/200, Loss:  0.00204\n",
      "166/200, Loss:  0.00205\n",
      "167/200, Loss:  0.00209\n",
      "168/200, Loss:  0.00194\n",
      "169/200, Loss:  0.00207\n",
      "170/200, Loss:  0.00183\n",
      "171/200, Loss:  0.00217\n",
      "172/200, Loss:  0.00207\n",
      "173/200, Loss:  0.00222\n",
      "174/200, Loss:  0.00191\n",
      "175/200, Loss:  0.00208\n",
      "176/200, Loss:  0.00204\n",
      "177/200, Loss:  0.00211\n",
      "178/200, Loss:  0.00201\n",
      "179/200, Loss:  0.00204\n",
      "180/200, Loss:  0.00192\n",
      "181/200, Loss:  0.00200\n",
      "182/200, Loss:  0.00193\n",
      "183/200, Loss:  0.00194\n",
      "184/200, Loss:  0.00192\n",
      "185/200, Loss:  0.00188\n",
      "186/200, Loss:  0.00199\n",
      "187/200, Loss:  0.00208\n",
      "188/200, Loss:  0.00195\n",
      "189/200, Loss:  0.00207\n",
      "190/200, Loss:  0.00198\n",
      "191/200, Loss:  0.00174\n",
      "192/200, Loss:  0.00179\n",
      "193/200, Loss:  0.00190\n",
      "194/200, Loss:  0.00199\n",
      "195/200, Loss:  0.00195\n",
      "196/200, Loss:  0.00162\n",
      "197/200, Loss:  0.00211\n",
      "198/200, Loss:  0.00189\n",
      "199/200, Loss:  0.00196\n",
      "200/200, Loss:  0.00179\n"
     ]
    },
    {
     "data": {
      "image/png": "[encoded data removed]",
      "text/plain": [
       "<Figure size 640x480 with 1 Axes>"
      ]
     },
     "metadata": {},
     "output_type": "display_data"
    }
   ],
   "source": [
    "def train_model(model,train_dataloader,criterion,optimizer,epochs=10):\n",
    "    model.train()\n",
    "    train_losses = []\n",
    "    for epoch in range(epochs):\n",
    "        total_loss = 0\n",
    "        for images,labels in train_dataloader:\n",
    "            images,labels = images.to(device),labels.to(device) # gpu ya yollamak için\n",
    "        optimizer.zero_grad()\n",
    "        predictions = model(images)\n",
    "        loss = criterion(predictions,labels)\n",
    "        loss.backward()\n",
    "        optimizer.step()\n",
    "\n",
    "        total_loss = total_loss + loss.item()\n",
    "        avg_loss = total_loss / len(train_dataloader) \n",
    "        train_losses.append(avg_loss)\n",
    "        print(f\"{epoch+1}/{epochs}, Loss: {avg_loss: .5f}\")\n",
    "    plt.figure()\n",
    "    plt.plot(range(epochs),train_losses,marker=\"o\",linestyle=\"-\",label=\"Train Loss\")\n",
    "    plt.xlabel(\"Epochs\")\n",
    "    plt.ylabel(\"Loss\")\n",
    "    plt.title(\"Training Loss\")\n",
    "    plt.legend()\n",
    "    plt.show()\n",
    "train_model(model,train_dataloader,criterion,optimizer,200)\n",
    "        "
   ]
  },
  {
   "cell_type": "markdown",
   "id": "a65e9b0e",
   "metadata": {},
   "source": [
    "test"
   ]
  },
  {
   "cell_type": "code",
   "execution_count": 32,
   "id": "860752cb",
   "metadata": {},
   "outputs": [
    {
     "name": "stdout",
     "output_type": "stream",
     "text": [
      "Accuracy : 83.780\n"
     ]
    }
   ],
   "source": [
    "def test_model(model,test_dataloader):\n",
    "    model.eval()\n",
    "    correct = 0\n",
    "    total = 0\n",
    "    with torch.no_grad():\n",
    "        for images,labels in test_dataloader:\n",
    "            images,labels = images.to(device),labels.to(device)\n",
    "            predictions = model(images)\n",
    "            _,predicted = torch.max(predictions,1)\n",
    "            total += labels.size(0)\n",
    "            correct += (predicted == labels).sum().item()\n",
    "    print(f\"Accuracy : {100*correct/total:.3f}\")\n",
    "test_model(model,test_dataloader)   \n"
   ]
  },
  {
   "cell_type": "code",
   "execution_count": null,
   "id": "2b59d711",
   "metadata": {},
   "outputs": [],
   "source": []
  }
 ],
 "metadata": {
  "kernelspec": {
   "display_name": "dvapython",
   "language": "python",
   "name": "python3"
  },
  "language_info": {
   "codemirror_mode": {
    "name": "ipython",
    "version": 3
   },
   "file_extension": ".py",
   "mimetype": "text/x-python",
   "name": "python",
   "nbconvert_exporter": "python",
   "pygments_lexer": "ipython3",
   "version": "3.11.13"
  }
 },
 "nbformat": 4,
 "nbformat_minor": 5
}
